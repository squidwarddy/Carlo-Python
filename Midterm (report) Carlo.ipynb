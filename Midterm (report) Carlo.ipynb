{
 "cells": [
  {
   "cell_type": "markdown",
   "id": "c5789ecc-fc4a-46bc-83b8-fc8811c45b96",
   "metadata": {},
   "source": [
    "# Midterm Fall 2022 Quarter Catherine Carlo INFO 4120 Section 2\n",
    "## Phase One - Report"
   ]
  },
  {
   "cell_type": "markdown",
   "id": "ef277111-ad37-4b4f-9e16-e76f59b86a88",
   "metadata": {},
   "source": [
    "### Executive Summary\n",
    "Three research questions were asked & data was analyzed to answer them. The questions surrounded the correlation between Sport toughness, Player Earnings & Sport Popularity by country. In the end, there was foudn to be no corrrelation between the topics."
   ]
  },
  {
   "cell_type": "markdown",
   "id": "0b8591f3-1c3f-4c56-a599-3b1d8f0eec8d",
   "metadata": {},
   "source": [
    "### Research Questions\n",
    "1. Do Athletes of tougher sports get paid more?\\\n",
    "Need to know: \n",
    "- Which sports are in Top 100 paid athletes (bar graph)\n",
    "- Toughness of those sports (merge dfs)\n",
    "- If there is correlation between $$ & toughness (heatmap)\n",
    "2. Are the most popular sports by country tough?\\\n",
    "Need to know:\n",
    "- Which sports are popular (bar graph)\n",
    "- Toughness of those sports (merge dfs)\n",
    "- If correlation between popularity & toughness (heatmap)\n",
    "3. Do popular sports by country impact Top 100 paid athletes?\n",
    "- Find correlation & make heatmap\n"
   ]
  },
  {
   "cell_type": "code",
   "execution_count": 19,
   "id": "6bc9c6d8-8fe6-4664-bbdb-ce690b492c3f",
   "metadata": {},
   "outputs": [
    {
     "data": {
      "text/plain": [
       "'C:\\\\Users\\\\15857\\\\info 4120\\\\week 6'"
      ]
     },
     "execution_count": 19,
     "metadata": {},
     "output_type": "execute_result"
    }
   ],
   "source": [
    "#importing packages\n",
    "import pandas as pd\n",
    "import numpy as np\n",
    "from numpy import nan as NA\n",
    "from pandas import DataFrame\n",
    "import matplotlib.pyplot as plt\n",
    "import seaborn as sb\n",
    "\n",
    "#Set the path\n",
    "import os\n",
    "os.chdir('C:\\\\Users\\\\15857\\\\info 4120\\\\week 6') #making sure working out of correct file\n",
    "os.getcwd()"
   ]
  },
  {
   "cell_type": "markdown",
   "id": "0be45c7b-e24a-4da8-b07a-ccc2eb29e0d5",
   "metadata": {},
   "source": [
    "#### Data Source 1\n",
    "Toughness of Sport Rankings -- CSV file from ESPN\n",
    "#### Column Descriptions:\n",
    "Sport - Identifying which sport per row \\\n",
    "Endurance - Measured score out of 10 \\\n",
    "Strength - Measured score out of 10 \\\n",
    "Power - Measured score out of 10 \\\n",
    "Speed - Measured score out of 10 \\\n",
    "Agility - Measured score out of 10 \\\n",
    "Flexibility - Measured score out of 10 \\\n",
    "Nerve - Measured score out of 10 \\\n",
    "Durability - Measured score out of 10 \\\n",
    "Hand-Eye Coordination - Measured score out of 10 \\\n",
    "Analytic Aptitude - Measured score out of 10 \\\n",
    "Total - Combined measured score of all other quantitative variables"
   ]
  },
  {
   "cell_type": "code",
   "execution_count": 4,
   "id": "94090743-2a2b-44f4-8f1c-6c7101b1af34",
   "metadata": {},
   "outputs": [
    {
     "data": {
      "text/html": [
       "<div>\n",
       "<style scoped>\n",
       "    .dataframe tbody tr th:only-of-type {\n",
       "        vertical-align: middle;\n",
       "    }\n",
       "\n",
       "    .dataframe tbody tr th {\n",
       "        vertical-align: top;\n",
       "    }\n",
       "\n",
       "    .dataframe thead th {\n",
       "        text-align: right;\n",
       "    }\n",
       "</style>\n",
       "<table border=\"1\" class=\"dataframe\">\n",
       "  <thead>\n",
       "    <tr style=\"text-align: right;\">\n",
       "      <th></th>\n",
       "      <th>Sport</th>\n",
       "      <th>Endurance</th>\n",
       "      <th>Strength</th>\n",
       "      <th>Power</th>\n",
       "      <th>Speed</th>\n",
       "      <th>Agility</th>\n",
       "      <th>Flexibility</th>\n",
       "      <th>Nerve</th>\n",
       "      <th>Durability</th>\n",
       "      <th>Hand-Eye Coordination</th>\n",
       "      <th>Analytic Aptitude</th>\n",
       "      <th>TOTAL</th>\n",
       "    </tr>\n",
       "  </thead>\n",
       "  <tbody>\n",
       "    <tr>\n",
       "      <th>1</th>\n",
       "      <td>Boxing</td>\n",
       "      <td>8.63</td>\n",
       "      <td>8.13</td>\n",
       "      <td>8.63</td>\n",
       "      <td>6.38</td>\n",
       "      <td>6.25</td>\n",
       "      <td>4.38</td>\n",
       "      <td>8.88</td>\n",
       "      <td>8.50</td>\n",
       "      <td>7.00</td>\n",
       "      <td>5.63</td>\n",
       "      <td>72.375</td>\n",
       "    </tr>\n",
       "    <tr>\n",
       "      <th>2</th>\n",
       "      <td>Ice Hockey</td>\n",
       "      <td>7.25</td>\n",
       "      <td>7.13</td>\n",
       "      <td>7.88</td>\n",
       "      <td>7.75</td>\n",
       "      <td>7.63</td>\n",
       "      <td>4.88</td>\n",
       "      <td>6.00</td>\n",
       "      <td>8.25</td>\n",
       "      <td>7.50</td>\n",
       "      <td>7.50</td>\n",
       "      <td>71.750</td>\n",
       "    </tr>\n",
       "    <tr>\n",
       "      <th>3</th>\n",
       "      <td>Football</td>\n",
       "      <td>5.38</td>\n",
       "      <td>8.63</td>\n",
       "      <td>8.13</td>\n",
       "      <td>7.13</td>\n",
       "      <td>6.38</td>\n",
       "      <td>4.38</td>\n",
       "      <td>7.25</td>\n",
       "      <td>8.50</td>\n",
       "      <td>5.50</td>\n",
       "      <td>7.13</td>\n",
       "      <td>68.375</td>\n",
       "    </tr>\n",
       "    <tr>\n",
       "      <th>4</th>\n",
       "      <td>Basketball</td>\n",
       "      <td>7.38</td>\n",
       "      <td>6.25</td>\n",
       "      <td>6.50</td>\n",
       "      <td>7.25</td>\n",
       "      <td>8.13</td>\n",
       "      <td>5.63</td>\n",
       "      <td>4.13</td>\n",
       "      <td>7.75</td>\n",
       "      <td>7.50</td>\n",
       "      <td>7.38</td>\n",
       "      <td>67.875</td>\n",
       "    </tr>\n",
       "    <tr>\n",
       "      <th>5</th>\n",
       "      <td>Wrestling</td>\n",
       "      <td>6.63</td>\n",
       "      <td>8.38</td>\n",
       "      <td>7.13</td>\n",
       "      <td>5.13</td>\n",
       "      <td>6.38</td>\n",
       "      <td>7.50</td>\n",
       "      <td>5.00</td>\n",
       "      <td>6.75</td>\n",
       "      <td>4.25</td>\n",
       "      <td>6.38</td>\n",
       "      <td>63.500</td>\n",
       "    </tr>\n",
       "  </tbody>\n",
       "</table>\n",
       "</div>"
      ],
      "text/plain": [
       "        Sport  Endurance  Strength  Power  Speed  Agility  Flexibility  Nerve  \\\n",
       "1      Boxing       8.63      8.13   8.63   6.38     6.25         4.38   8.88   \n",
       "2  Ice Hockey       7.25      7.13   7.88   7.75     7.63         4.88   6.00   \n",
       "3    Football       5.38      8.63   8.13   7.13     6.38         4.38   7.25   \n",
       "4  Basketball       7.38      6.25   6.50   7.25     8.13         5.63   4.13   \n",
       "5   Wrestling       6.63      8.38   7.13   5.13     6.38         7.50   5.00   \n",
       "\n",
       "   Durability  Hand-Eye Coordination  Analytic Aptitude   TOTAL  \n",
       "1        8.50                   7.00               5.63  72.375  \n",
       "2        8.25                   7.50               7.50  71.750  \n",
       "3        8.50                   5.50               7.13  68.375  \n",
       "4        7.75                   7.50               7.38  67.875  \n",
       "5        6.75                   4.25               6.38  63.500  "
      ]
     },
     "execution_count": 4,
     "metadata": {},
     "output_type": "execute_result"
    }
   ],
   "source": [
    "tough= DataFrame(pd.read_csv('toughestsport.csv'))#import csv file\n",
    "tough.index=list(tough.RANK) #putting rank colummn as index\n",
    "tough=tough.drop('RANK', axis=1) #dropping rank column because it is now a duplicate of index\n",
    "#changing column names to be more easily read/understood\n",
    "tough=tough.rename(columns={'SPORT':'Sport','END':'Endurance','STR':\"Strength\",'PWR':'Power','SPD':'Speed','AGI':'Agility','FLX':'Flexibility'})\n",
    "tough=tough.rename(columns={'NER':'Nerve','DUR':\"Durability\",'HAN':'Hand-Eye Coordination','ANA':'Analytic Aptitude'})\n",
    "tough.head()#print first few rows of dataframe"
   ]
  },
  {
   "cell_type": "code",
   "execution_count": 11,
   "id": "eece8dda-38b4-45fd-bf1d-3e2f525d5e82",
   "metadata": {},
   "outputs": [
    {
     "name": "stdout",
     "output_type": "stream",
     "text": [
      "Max toughness score was 72.\n",
      "Min toughness score was 14.\n",
      "Median toughness score was 48.0.\n",
      "Average toughness score was 49.0.\n",
      "Standard deviation in toughness score was 12.0.\n",
      "Variance in toughness score was 148.0.\n"
     ]
    }
   ],
   "source": [
    "tough['TOTAL']=tough['TOTAL'].astype(int) #Descriptive stats for toughest sport totals\n",
    "print(f\"Max toughness score was {round(tough.TOTAL.max(),0)}.\")\n",
    "print(f\"Min toughness score was {round(tough.TOTAL.min(),0)}.\")\n",
    "print(f\"Median toughness score was {round(tough.TOTAL.median(),0)}.\")\n",
    "print(f\"Average toughness score was {round(tough.TOTAL.mean(),0)}.\")\n",
    "print(f\"Standard deviation in toughness score was {round(tough.TOTAL.std(),0)}.\")\n",
    "print(f\"Variance in toughness score was {round(tough.TOTAL.var(),0)}.\")"
   ]
  },
  {
   "cell_type": "code",
   "execution_count": 12,
   "id": "396c9ef9-545c-4946-bc58-8ecfe19544b9",
   "metadata": {},
   "outputs": [
    {
     "data": {
      "image/png": "[encoded data removed]",
      "text/plain": [
       "<Figure size 432x288 with 1 Axes>"
      ]
     },
     "metadata": {
      "needs_background": "light"
     },
     "output_type": "display_data"
    },
    {
     "data": {
      "text/plain": [
       "<Figure size 432x288 with 0 Axes>"
      ]
     },
     "metadata": {},
     "output_type": "display_data"
    }
   ],
   "source": [
    "plt.hist(tough.TOTAL,6)\n",
    "plt.title('Sport by Toughness')\n",
    "plt.xlabel('Toughness Total Score')\n",
    "plt.ylabel('# of Sports')\n",
    "plt.show()\n",
    "plt.savefig('Sport_By_Toughness.png')"
   ]
  },
  {
   "cell_type": "markdown",
   "id": "90a875f4-c25a-40aa-a62b-ce2af5f4ef5d",
   "metadata": {},
   "source": [
    "#### Data Source 2\n",
    "Top 100 Paid Athletes in World -- CSV file from Forbes\n",
    "#### Column Descriptions:\n",
    "Name - Identifying athlete per row \\\n",
    "Earnings - Money earned per year in $ Millions \\\n",
    "Year - What year athlete had these earnings \\\n",
    "Sport - Which sport athlete plays"
   ]
  },
  {
   "cell_type": "code",
   "execution_count": 5,
   "id": "443b38d9-3437-4633-b56a-31d767191457",
   "metadata": {},
   "outputs": [
    {
     "data": {
      "text/html": [
       "<div>\n",
       "<style scoped>\n",
       "    .dataframe tbody tr th:only-of-type {\n",
       "        vertical-align: middle;\n",
       "    }\n",
       "\n",
       "    .dataframe tbody tr th {\n",
       "        vertical-align: top;\n",
       "    }\n",
       "\n",
       "    .dataframe thead th {\n",
       "        text-align: right;\n",
       "    }\n",
       "</style>\n",
       "<table border=\"1\" class=\"dataframe\">\n",
       "  <thead>\n",
       "    <tr style=\"text-align: right;\">\n",
       "      <th></th>\n",
       "      <th>Name</th>\n",
       "      <th>Earnings</th>\n",
       "      <th>Year</th>\n",
       "      <th>Sport</th>\n",
       "    </tr>\n",
       "  </thead>\n",
       "  <tbody>\n",
       "    <tr>\n",
       "      <th>0</th>\n",
       "      <td>Conor McGregor</td>\n",
       "      <td>180.0</td>\n",
       "      <td>2021</td>\n",
       "      <td>Mixed Martial Arts</td>\n",
       "    </tr>\n",
       "    <tr>\n",
       "      <th>1</th>\n",
       "      <td>Lionel Messi</td>\n",
       "      <td>130.0</td>\n",
       "      <td>2021</td>\n",
       "      <td>Soccer</td>\n",
       "    </tr>\n",
       "    <tr>\n",
       "      <th>2</th>\n",
       "      <td>Cristiano Ronaldo</td>\n",
       "      <td>120.0</td>\n",
       "      <td>2021</td>\n",
       "      <td>Soccer</td>\n",
       "    </tr>\n",
       "    <tr>\n",
       "      <th>3</th>\n",
       "      <td>Dak Prescott</td>\n",
       "      <td>107.5</td>\n",
       "      <td>2021</td>\n",
       "      <td>Football</td>\n",
       "    </tr>\n",
       "    <tr>\n",
       "      <th>4</th>\n",
       "      <td>LeBron James</td>\n",
       "      <td>96.5</td>\n",
       "      <td>2021</td>\n",
       "      <td>Basketball</td>\n",
       "    </tr>\n",
       "    <tr>\n",
       "      <th>...</th>\n",
       "      <td>...</td>\n",
       "      <td>...</td>\n",
       "      <td>...</td>\n",
       "      <td>...</td>\n",
       "    </tr>\n",
       "    <tr>\n",
       "      <th>96</th>\n",
       "      <td>Matt Ryan</td>\n",
       "      <td>29.5</td>\n",
       "      <td>2020</td>\n",
       "      <td>Football</td>\n",
       "    </tr>\n",
       "    <tr>\n",
       "      <th>97</th>\n",
       "      <td>Daniel Ricciardo</td>\n",
       "      <td>29.0</td>\n",
       "      <td>2020</td>\n",
       "      <td>Racing</td>\n",
       "    </tr>\n",
       "    <tr>\n",
       "      <th>98</th>\n",
       "      <td>Mesut Ozil</td>\n",
       "      <td>28.7</td>\n",
       "      <td>2020</td>\n",
       "      <td>Soccer</td>\n",
       "    </tr>\n",
       "    <tr>\n",
       "      <th>99</th>\n",
       "      <td>Kyle Lowry</td>\n",
       "      <td>28.5</td>\n",
       "      <td>2020</td>\n",
       "      <td>Basketball</td>\n",
       "    </tr>\n",
       "    <tr>\n",
       "      <th>100</th>\n",
       "      <td>Paul Pogba</td>\n",
       "      <td>28.5</td>\n",
       "      <td>2020</td>\n",
       "      <td>Soccer</td>\n",
       "    </tr>\n",
       "  </tbody>\n",
       "</table>\n",
       "<p>101 rows × 4 columns</p>\n",
       "</div>"
      ],
      "text/plain": [
       "                  Name  Earnings  Year               Sport\n",
       "0       Conor McGregor     180.0  2021  Mixed Martial Arts\n",
       "1         Lionel Messi     130.0  2021              Soccer\n",
       "2    Cristiano Ronaldo     120.0  2021              Soccer\n",
       "3         Dak Prescott     107.5  2021            Football\n",
       "4         LeBron James      96.5  2021          Basketball\n",
       "..                 ...       ...   ...                 ...\n",
       "96           Matt Ryan      29.5  2020            Football\n",
       "97    Daniel Ricciardo      29.0  2020              Racing\n",
       "98          Mesut Ozil      28.7  2020              Soccer\n",
       "99          Kyle Lowry      28.5  2020          Basketball\n",
       "100         Paul Pogba      28.5  2020              Soccer\n",
       "\n",
       "[101 rows x 4 columns]"
      ]
     },
     "execution_count": 5,
     "metadata": {},
     "output_type": "execute_result"
    }
   ],
   "source": [
    "highestpaid= DataFrame(pd.read_csv('forbesathletesv2.csv')) #import csv file\n",
    "top100=highestpaid.loc[:100] #print first few rows of dataframe\n",
    "top100"
   ]
  },
  {
   "cell_type": "code",
   "execution_count": 7,
   "id": "ccc1b3bb-f773-4ea7-845d-f2ea2be5346b",
   "metadata": {},
   "outputs": [
    {
     "name": "stdout",
     "output_type": "stream",
     "text": [
      "Max earnings of the top 100 athletes in 2021 was $180 million.\n",
      "Min earnings on of the top 100 atheletes in 2021 was $28 million.\n",
      "Median earnings for top 100 athletes in 2021 was $41.0 million.\n",
      "Average earnings for top 100 athletes in 2021 was $51.0 million.\n",
      "Standard deviation of earnings for top 100 athletes in 2021 was $26.0 million.\n",
      "Variance of earnings for top 100 athletes in 2021 was $667.0 million.\n"
     ]
    },
    {
     "name": "stderr",
     "output_type": "stream",
     "text": [
      "C:\\Users\\15857\\AppData\\Local\\Temp\\ipykernel_3616\\1763646611.py:1: SettingWithCopyWarning: \n",
      "A value is trying to be set on a copy of a slice from a DataFrame.\n",
      "Try using .loc[row_indexer,col_indexer] = value instead\n",
      "\n",
      "See the caveats in the documentation: https://pandas.pydata.org/pandas-docs/stable/user_guide/indexing.html#returning-a-view-versus-a-copy\n",
      "  top100['Earnings']=top100['Earnings'].astype(int) #Descriptive stats for Top 100 highest paid athletes of 2021\n"
     ]
    }
   ],
   "source": [
    "top100['Earnings']=top100['Earnings'].astype(int) #Descriptive stats for Top 100 highest paid athletes of 2021\n",
    "print(f\"Max earnings of the top 100 athletes in 2021 was ${round(top100.Earnings.max(),0)} million.\")\n",
    "print(f\"Min earnings on of the top 100 atheletes in 2021 was ${round(top100.Earnings.min(),0)} million.\")\n",
    "print(f\"Median earnings for top 100 athletes in 2021 was ${round(top100.Earnings.median(),0)} million.\")\n",
    "print(f\"Average earnings for top 100 athletes in 2021 was ${round(top100.Earnings.mean(),0)} million.\")\n",
    "print(f\"Standard deviation of earnings for top 100 athletes in 2021 was ${round(top100.Earnings.std(),0)} million.\")\n",
    "print(f\"Variance of earnings for top 100 athletes in 2021 was ${round(top100.Earnings.var(),0)} million.\")"
   ]
  },
  {
   "cell_type": "code",
   "execution_count": 8,
   "id": "963dec0b-b7de-454f-b9b5-9bbd89c0b849",
   "metadata": {},
   "outputs": [
    {
     "data": {
      "text/html": [
       "<div>\n",
       "<style scoped>\n",
       "    .dataframe tbody tr th:only-of-type {\n",
       "        vertical-align: middle;\n",
       "    }\n",
       "\n",
       "    .dataframe tbody tr th {\n",
       "        vertical-align: top;\n",
       "    }\n",
       "\n",
       "    .dataframe thead th {\n",
       "        text-align: right;\n",
       "    }\n",
       "</style>\n",
       "<table border=\"1\" class=\"dataframe\">\n",
       "  <thead>\n",
       "    <tr style=\"text-align: right;\">\n",
       "      <th></th>\n",
       "      <th>Earnings</th>\n",
       "    </tr>\n",
       "  </thead>\n",
       "  <tbody>\n",
       "    <tr>\n",
       "      <th>(35, 45]</th>\n",
       "      <td>36</td>\n",
       "    </tr>\n",
       "    <tr>\n",
       "      <th>(25, 35]</th>\n",
       "      <td>26</td>\n",
       "    </tr>\n",
       "    <tr>\n",
       "      <th>(55, 90]</th>\n",
       "      <td>16</td>\n",
       "    </tr>\n",
       "    <tr>\n",
       "      <th>(45, 55]</th>\n",
       "      <td>13</td>\n",
       "    </tr>\n",
       "    <tr>\n",
       "      <th>(90, 180]</th>\n",
       "      <td>10</td>\n",
       "    </tr>\n",
       "  </tbody>\n",
       "</table>\n",
       "</div>"
      ],
      "text/plain": [
       "           Earnings\n",
       "(35, 45]         36\n",
       "(25, 35]         26\n",
       "(55, 90]         16\n",
       "(45, 55]         13\n",
       "(90, 180]        10"
      ]
     },
     "execution_count": 8,
     "metadata": {},
     "output_type": "execute_result"
    }
   ],
   "source": [
    "earnings = top100.Earnings #making list of values from earnings column of top100\n",
    "bins = [25, 35, 45, 55, 90, 180] #creating bins for x axis\n",
    "cats = pd.cut(earnings, bins) #getting counts\n",
    "counts = pd.value_counts(cats) \n",
    "top100df=DataFrame(counts) #making dataframe\n",
    "top100df #display dataframe"
   ]
  },
  {
   "cell_type": "code",
   "execution_count": 9,
   "id": "33f46a44-53be-497e-87c7-18910971a8e7",
   "metadata": {},
   "outputs": [
    {
     "data": {
      "image/png": "[encoded data removed]",
      "text/plain": [
       "<Figure size 432x288 with 1 Axes>"
      ]
     },
     "metadata": {
      "needs_background": "light"
     },
     "output_type": "display_data"
    }
   ],
   "source": [
    "top100df.columns=['Count'] #making bar graph with bins created earlier\n",
    "top100df.plot(kind='bar',color='black',title='Earnings of top 100 athletes',xlabel='Earnings ($M)', ylabel=\"# of Athletes\")\n",
    "plt.savefig('Earnings_top100_bins')"
   ]
  },
  {
   "cell_type": "code",
   "execution_count": 10,
   "id": "49271be5-2775-41ac-8700-4770a33dc2b3",
   "metadata": {},
   "outputs": [
    {
     "data": {
      "image/png": "[encoded data removed]",
      "text/plain": [
       "<Figure size 432x288 with 1 Axes>"
      ]
     },
     "metadata": {
      "needs_background": "light"
     },
     "output_type": "display_data"
    }
   ],
   "source": [
    "sportCounts=DataFrame(top100.Sport.value_counts()) #making dataframe for # of athletes in each sport for top 100\n",
    "sportCounts.columns =['Count']\n",
    "#making bar graph showing athlete # by sport\n",
    "sportCounts.plot(kind='bar', color='green', title='Top 100 Athletes by Sport', xlabel='sport', ylabel='# of Athletes')\n",
    "plt.savefig('Top_100_Earn_By_Sport.png')"
   ]
  },
  {
   "cell_type": "markdown",
   "id": "3605948a-5010-4fac-bad9-9dac318f99df",
   "metadata": {},
   "source": [
    "##### Learnings:\n",
    "- Lots of athletes in top 100 for Basketball & Football\n",
    "- Athletes for Tennis + Golf + Racing + Boxing + MMA look like they could equal Basketball"
   ]
  },
  {
   "cell_type": "markdown",
   "id": "d323351a-66b0-4194-8ae1-2b0d087fc530",
   "metadata": {},
   "source": [
    "#### Data Source 3\n",
    "Each Country's Most Popular Sport\n",
    "#### Column Descriptions:\n",
    "index - countries of the world \\\n",
    "babbel2021 - report from babbel in 2021 \\\n",
    "bleacherRep2008 - report from Bleacher Report in 2008 \\\n",
    "mostPopularSports - report from Most Popular Sports"
   ]
  },
  {
   "cell_type": "code",
   "execution_count": 6,
   "id": "024331db-640e-402e-adc2-070d6011d3a7",
   "metadata": {},
   "outputs": [
    {
     "data": {
      "text/html": [
       "<div>\n",
       "<style scoped>\n",
       "    .dataframe tbody tr th:only-of-type {\n",
       "        vertical-align: middle;\n",
       "    }\n",
       "\n",
       "    .dataframe tbody tr th {\n",
       "        vertical-align: top;\n",
       "    }\n",
       "\n",
       "    .dataframe thead th {\n",
       "        text-align: right;\n",
       "    }\n",
       "</style>\n",
       "<table border=\"1\" class=\"dataframe\">\n",
       "  <thead>\n",
       "    <tr style=\"text-align: right;\">\n",
       "      <th></th>\n",
       "      <th>babbel2021</th>\n",
       "      <th>bleacherRep2008</th>\n",
       "      <th>mostPopularSports</th>\n",
       "    </tr>\n",
       "  </thead>\n",
       "  <tbody>\n",
       "    <tr>\n",
       "      <th>Afghanistan</th>\n",
       "      <td>Cricket</td>\n",
       "      <td>Soccer</td>\n",
       "      <td>missing</td>\n",
       "    </tr>\n",
       "    <tr>\n",
       "      <th>Albania</th>\n",
       "      <td>Soccer</td>\n",
       "      <td>Soccer</td>\n",
       "      <td>Soccer</td>\n",
       "    </tr>\n",
       "    <tr>\n",
       "      <th>Algeria</th>\n",
       "      <td>Soccer</td>\n",
       "      <td>Soccer</td>\n",
       "      <td>Soccer</td>\n",
       "    </tr>\n",
       "    <tr>\n",
       "      <th>American Samoa</th>\n",
       "      <td>Soccer</td>\n",
       "      <td>Soccer</td>\n",
       "      <td>missing</td>\n",
       "    </tr>\n",
       "    <tr>\n",
       "      <th>Andorra</th>\n",
       "      <td>Soccer</td>\n",
       "      <td>Soccer</td>\n",
       "      <td>missing</td>\n",
       "    </tr>\n",
       "  </tbody>\n",
       "</table>\n",
       "</div>"
      ],
      "text/plain": [
       "               babbel2021 bleacherRep2008 mostPopularSports\n",
       "Afghanistan       Cricket          Soccer           missing\n",
       "Albania            Soccer          Soccer            Soccer\n",
       "Algeria            Soccer          Soccer            Soccer\n",
       "American Samoa     Soccer          Soccer           missing\n",
       "Andorra            Soccer          Soccer           missing"
      ]
     },
     "execution_count": 6,
     "metadata": {},
     "output_type": "execute_result"
    }
   ],
   "source": [
    "country=DataFrame(pd.read_csv('sports_by_country.csv'))#import csv file\n",
    "country.index=list(country.country) #putting country colummn as index\n",
    "country=country.drop('country', axis=1) #dropping  column because it is now a duplicate of index\n",
    "country.fillna('missing', inplace=True)\n",
    "\n",
    "dictbabbel={'babbel2021':\n",
    "      {'Football (soccer)':\"Soccer\", 'American Football (NFL)':\"Football\"}}\n",
    "dictBR={'bleacherRep2008':\n",
    "        {'Football (soccer)':\"Soccer\", 'American Football (NFL)':\"Football\"}}\n",
    "dictMPS={'mostPopularSports':\n",
    "        {'Football (soccer)':\"Soccer\", 'American Football (NFL)':\"Football\"}}\n",
    "country.replace(dictbabbel,inplace=True)\n",
    "country.replace(dictBR,inplace=True)\n",
    "country.replace(dictMPS,inplace=True)\n",
    "\n",
    "\n",
    "country.head() #print first few rows of dataframe"
   ]
  },
  {
   "cell_type": "code",
   "execution_count": 13,
   "id": "6d958886-f5dc-4333-9a1b-3fe2ce8c26db",
   "metadata": {},
   "outputs": [
    {
     "data": {
      "text/plain": [
       "Soccer                 152\n",
       "Cricket                 12\n",
       "Baseball                 9\n",
       "Basketball               6\n",
       "Rugby                    6\n",
       "missing                  4\n",
       "Ice Hockey               3\n",
       "Australian Football      2\n",
       "Boat Racing              1\n",
       "Archery                  1\n",
       "Windsurfing              1\n",
       "Gaelic Football          1\n",
       "Mongolian Wrestling      1\n",
       "Football                 1\n",
       "Name: babbel2021, dtype: int64"
      ]
     },
     "execution_count": 13,
     "metadata": {},
     "output_type": "execute_result"
    }
   ],
   "source": [
    "country.babbel2021.value_counts() #count of babbel2021 column variables"
   ]
  },
  {
   "cell_type": "code",
   "execution_count": 27,
   "id": "64c242b7-fe83-4fcf-bc2d-7116faf54992",
   "metadata": {},
   "outputs": [
    {
     "data": {
      "text/plain": [
       "<AxesSubplot:title={'center':'Popular Sports by Country'}, xlabel='Sport', ylabel='#of Countries'>"
      ]
     },
     "execution_count": 27,
     "metadata": {},
     "output_type": "execute_result"
    },
    {
     "data": {
      "image/png": "[encoded data removed]",
      "text/plain": [
       "<Figure size 432x288 with 1 Axes>"
      ]
     },
     "metadata": {
      "needs_background": "light"
     },
     "output_type": "display_data"
    }
   ],
   "source": [
    "country.bleacherRep2008.value_counts() #count of Bleacher Report 2008 column variables\n",
    "#going forward, only going to use bleacherRep2008 column of country dataframe since there are no missing variables\n",
    "BR2008=DataFrame(country.bleacherRep2008.value_counts()) #making dataframe for sport popularity by country\n",
    "BR2008.columns =['Count']  #making bar graph showing athlete # by sport\n",
    "BR2008.plot(kind='bar', color='purple', title='Popular Sports by Country', xlabel='Sport', ylabel='#of Countries') \n",
    "#plt.savefig('Popular_Sports_By_Country.png')"
   ]
  },
  {
   "cell_type": "markdown",
   "id": "f12b316e-92cc-423c-9af6-9ec295e07b53",
   "metadata": {},
   "source": [
    "##### Learnings\n",
    "- Soccer is most popular by FAR"
   ]
  },
  {
   "cell_type": "code",
   "execution_count": 15,
   "id": "4e2feb00-d442-421b-b10d-3e82e1eec48e",
   "metadata": {},
   "outputs": [
    {
     "data": {
      "text/plain": [
       "missing                84\n",
       "Soccer                 57\n",
       "Basketball             14\n",
       "Tennis                  6\n",
       "Ice Hockey              6\n",
       "Wrestling               6\n",
       "Water Sports            5\n",
       "Cricket                 5\n",
       "Baseball                3\n",
       "Boxing                  3\n",
       "Cycling                 2\n",
       "Martial Arts            2\n",
       "Australian Football     1\n",
       "Skating                 1\n",
       "Cue Sports              1\n",
       "Motor Sports            1\n",
       "Rugby                   1\n",
       "Football                1\n",
       "Skateboarding           1\n",
       "Name: mostPopularSports, dtype: int64"
      ]
     },
     "execution_count": 15,
     "metadata": {},
     "output_type": "execute_result"
    }
   ],
   "source": [
    "country.mostPopularSports.value_counts() #count of Most Popular Sports column variables"
   ]
  },
  {
   "cell_type": "markdown",
   "id": "2ae07d4a-7de8-4d2a-afad-c2daa07b7383",
   "metadata": {},
   "source": [
    "#### Do Athletes of tougher sports get paid more?\n",
    "- Merge Tough & Top100 Dataframes\n",
    "- Find correlations\n",
    "- Make heatmaps"
   ]
  },
  {
   "cell_type": "code",
   "execution_count": 16,
   "id": "05700130-a3c9-473e-bbd1-2357e24a8d72",
   "metadata": {},
   "outputs": [
    {
     "data": {
      "text/html": [
       "<div>\n",
       "<style scoped>\n",
       "    .dataframe tbody tr th:only-of-type {\n",
       "        vertical-align: middle;\n",
       "    }\n",
       "\n",
       "    .dataframe tbody tr th {\n",
       "        vertical-align: top;\n",
       "    }\n",
       "\n",
       "    .dataframe thead th {\n",
       "        text-align: right;\n",
       "    }\n",
       "</style>\n",
       "<table border=\"1\" class=\"dataframe\">\n",
       "  <thead>\n",
       "    <tr style=\"text-align: right;\">\n",
       "      <th></th>\n",
       "      <th>Toughness</th>\n",
       "      <th>Earnings</th>\n",
       "    </tr>\n",
       "  </thead>\n",
       "  <tbody>\n",
       "    <tr>\n",
       "      <th>Toughness</th>\n",
       "      <td>1.000000</td>\n",
       "      <td>-0.094782</td>\n",
       "    </tr>\n",
       "    <tr>\n",
       "      <th>Earnings</th>\n",
       "      <td>-0.094782</td>\n",
       "      <td>1.000000</td>\n",
       "    </tr>\n",
       "  </tbody>\n",
       "</table>\n",
       "</div>"
      ],
      "text/plain": [
       "           Toughness  Earnings\n",
       "Toughness   1.000000 -0.094782\n",
       "Earnings   -0.094782  1.000000"
      ]
     },
     "execution_count": 16,
     "metadata": {},
     "output_type": "execute_result"
    }
   ],
   "source": [
    "toptough=pd.merge(tough,top100, on='Sport') #merging top100 & tough together on sport\n",
    "toptoughclean=toptough.drop('Endurance', axis=1) #getting rid of unnecessary colummns\n",
    "toptoughclean=toptoughclean.drop('Strength', axis=1)\n",
    "toptoughclean=toptoughclean.drop('Power', axis=1)\n",
    "toptoughclean=toptoughclean.drop('Speed', axis=1)\n",
    "toptoughclean=toptoughclean.drop('Agility', axis=1)\n",
    "toptoughclean=toptoughclean.drop('Flexibility', axis=1)\n",
    "toptoughclean=toptoughclean.drop('Nerve', axis=1)\n",
    "toptoughclean=toptoughclean.drop('Durability', axis=1)\n",
    "toptoughclean=toptoughclean.drop('Hand-Eye Coordination', axis=1)\n",
    "toptoughclean=toptoughclean.drop('Analytic Aptitude', axis=1)\n",
    "toptoughclean=toptoughclean.drop('Year', axis=1)\n",
    "toptoughclean=toptoughclean.rename(columns={'TOTAL':'Toughness','Name':'Player Name'})\n",
    "#finding correlation between toughness total & player earnings\n",
    "toptoughclean.corr()"
   ]
  },
  {
   "cell_type": "code",
   "execution_count": 17,
   "id": "99a3f242-c481-4338-95ea-544d01089693",
   "metadata": {},
   "outputs": [
    {
     "data": {
      "text/html": [
       "<div>\n",
       "<style scoped>\n",
       "    .dataframe tbody tr th:only-of-type {\n",
       "        vertical-align: middle;\n",
       "    }\n",
       "\n",
       "    .dataframe tbody tr th {\n",
       "        vertical-align: top;\n",
       "    }\n",
       "\n",
       "    .dataframe thead th {\n",
       "        text-align: right;\n",
       "    }\n",
       "</style>\n",
       "<table border=\"1\" class=\"dataframe\">\n",
       "  <thead>\n",
       "    <tr style=\"text-align: right;\">\n",
       "      <th></th>\n",
       "      <th>Endurance</th>\n",
       "      <th>Strength</th>\n",
       "      <th>Power</th>\n",
       "      <th>Speed</th>\n",
       "      <th>Agility</th>\n",
       "      <th>Flexibility</th>\n",
       "      <th>Nerve</th>\n",
       "      <th>Durability</th>\n",
       "      <th>Hand-Eye Coordination</th>\n",
       "      <th>Analytic Aptitude</th>\n",
       "      <th>TOTAL</th>\n",
       "      <th>Earnings</th>\n",
       "      <th>Year</th>\n",
       "    </tr>\n",
       "  </thead>\n",
       "  <tbody>\n",
       "    <tr>\n",
       "      <th>Endurance</th>\n",
       "      <td>1.000000</td>\n",
       "      <td>-0.256159</td>\n",
       "      <td>-0.347055</td>\n",
       "      <td>0.616954</td>\n",
       "      <td>0.836156</td>\n",
       "      <td>0.631733</td>\n",
       "      <td>-0.184561</td>\n",
       "      <td>0.217416</td>\n",
       "      <td>0.665338</td>\n",
       "      <td>0.169200</td>\n",
       "      <td>0.495668</td>\n",
       "      <td>0.103587</td>\n",
       "      <td>-0.153048</td>\n",
       "    </tr>\n",
       "    <tr>\n",
       "      <th>Strength</th>\n",
       "      <td>-0.256159</td>\n",
       "      <td>1.000000</td>\n",
       "      <td>0.887065</td>\n",
       "      <td>0.374990</td>\n",
       "      <td>-0.074092</td>\n",
       "      <td>-0.328035</td>\n",
       "      <td>0.930916</td>\n",
       "      <td>0.828049</td>\n",
       "      <td>-0.517156</td>\n",
       "      <td>-0.122092</td>\n",
       "      <td>0.680744</td>\n",
       "      <td>-0.204512</td>\n",
       "      <td>0.098894</td>\n",
       "    </tr>\n",
       "    <tr>\n",
       "      <th>Power</th>\n",
       "      <td>-0.347055</td>\n",
       "      <td>0.887065</td>\n",
       "      <td>1.000000</td>\n",
       "      <td>0.095691</td>\n",
       "      <td>-0.298369</td>\n",
       "      <td>-0.327495</td>\n",
       "      <td>0.831820</td>\n",
       "      <td>0.533468</td>\n",
       "      <td>-0.342645</td>\n",
       "      <td>-0.492505</td>\n",
       "      <td>0.468212</td>\n",
       "      <td>-0.220600</td>\n",
       "      <td>0.051579</td>\n",
       "    </tr>\n",
       "    <tr>\n",
       "      <th>Speed</th>\n",
       "      <td>0.616954</td>\n",
       "      <td>0.374990</td>\n",
       "      <td>0.095691</td>\n",
       "      <td>1.000000</td>\n",
       "      <td>0.883579</td>\n",
       "      <td>0.417814</td>\n",
       "      <td>0.285631</td>\n",
       "      <td>0.744607</td>\n",
       "      <td>0.144664</td>\n",
       "      <td>0.550696</td>\n",
       "      <td>0.891083</td>\n",
       "      <td>0.007298</td>\n",
       "      <td>0.020765</td>\n",
       "    </tr>\n",
       "    <tr>\n",
       "      <th>Agility</th>\n",
       "      <td>0.836156</td>\n",
       "      <td>-0.074092</td>\n",
       "      <td>-0.298369</td>\n",
       "      <td>0.883579</td>\n",
       "      <td>1.000000</td>\n",
       "      <td>0.707328</td>\n",
       "      <td>-0.156844</td>\n",
       "      <td>0.420100</td>\n",
       "      <td>0.511163</td>\n",
       "      <td>0.601776</td>\n",
       "      <td>0.659979</td>\n",
       "      <td>0.085400</td>\n",
       "      <td>-0.049980</td>\n",
       "    </tr>\n",
       "    <tr>\n",
       "      <th>Flexibility</th>\n",
       "      <td>0.631733</td>\n",
       "      <td>-0.328035</td>\n",
       "      <td>-0.327495</td>\n",
       "      <td>0.417814</td>\n",
       "      <td>0.707328</td>\n",
       "      <td>1.000000</td>\n",
       "      <td>-0.538122</td>\n",
       "      <td>0.019273</td>\n",
       "      <td>0.890293</td>\n",
       "      <td>0.366911</td>\n",
       "      <td>0.277933</td>\n",
       "      <td>0.027791</td>\n",
       "      <td>-0.109284</td>\n",
       "    </tr>\n",
       "    <tr>\n",
       "      <th>Nerve</th>\n",
       "      <td>-0.184561</td>\n",
       "      <td>0.930916</td>\n",
       "      <td>0.831820</td>\n",
       "      <td>0.285631</td>\n",
       "      <td>-0.156844</td>\n",
       "      <td>-0.538122</td>\n",
       "      <td>1.000000</td>\n",
       "      <td>0.758558</td>\n",
       "      <td>-0.611601</td>\n",
       "      <td>-0.296251</td>\n",
       "      <td>0.605383</td>\n",
       "      <td>-0.165160</td>\n",
       "      <td>0.071866</td>\n",
       "    </tr>\n",
       "    <tr>\n",
       "      <th>Durability</th>\n",
       "      <td>0.217416</td>\n",
       "      <td>0.828049</td>\n",
       "      <td>0.533468</td>\n",
       "      <td>0.744607</td>\n",
       "      <td>0.420100</td>\n",
       "      <td>0.019273</td>\n",
       "      <td>0.758558</td>\n",
       "      <td>1.000000</td>\n",
       "      <td>-0.273549</td>\n",
       "      <td>0.253000</td>\n",
       "      <td>0.915631</td>\n",
       "      <td>-0.132889</td>\n",
       "      <td>0.058474</td>\n",
       "    </tr>\n",
       "    <tr>\n",
       "      <th>Hand-Eye Coordination</th>\n",
       "      <td>0.665338</td>\n",
       "      <td>-0.517156</td>\n",
       "      <td>-0.342645</td>\n",
       "      <td>0.144664</td>\n",
       "      <td>0.511163</td>\n",
       "      <td>0.890293</td>\n",
       "      <td>-0.611601</td>\n",
       "      <td>-0.273549</td>\n",
       "      <td>1.000000</td>\n",
       "      <td>-0.020005</td>\n",
       "      <td>0.051230</td>\n",
       "      <td>0.055268</td>\n",
       "      <td>-0.175680</td>\n",
       "    </tr>\n",
       "    <tr>\n",
       "      <th>Analytic Aptitude</th>\n",
       "      <td>0.169200</td>\n",
       "      <td>-0.122092</td>\n",
       "      <td>-0.492505</td>\n",
       "      <td>0.550696</td>\n",
       "      <td>0.601776</td>\n",
       "      <td>0.366911</td>\n",
       "      <td>-0.296251</td>\n",
       "      <td>0.253000</td>\n",
       "      <td>-0.020005</td>\n",
       "      <td>1.000000</td>\n",
       "      <td>0.219432</td>\n",
       "      <td>0.089423</td>\n",
       "      <td>0.104020</td>\n",
       "    </tr>\n",
       "    <tr>\n",
       "      <th>TOTAL</th>\n",
       "      <td>0.495668</td>\n",
       "      <td>0.680744</td>\n",
       "      <td>0.468212</td>\n",
       "      <td>0.891083</td>\n",
       "      <td>0.659979</td>\n",
       "      <td>0.277933</td>\n",
       "      <td>0.605383</td>\n",
       "      <td>0.915631</td>\n",
       "      <td>0.051230</td>\n",
       "      <td>0.219432</td>\n",
       "      <td>1.000000</td>\n",
       "      <td>-0.094782</td>\n",
       "      <td>0.004140</td>\n",
       "    </tr>\n",
       "    <tr>\n",
       "      <th>Earnings</th>\n",
       "      <td>0.103587</td>\n",
       "      <td>-0.204512</td>\n",
       "      <td>-0.220600</td>\n",
       "      <td>0.007298</td>\n",
       "      <td>0.085400</td>\n",
       "      <td>0.027791</td>\n",
       "      <td>-0.165160</td>\n",
       "      <td>-0.132889</td>\n",
       "      <td>0.055268</td>\n",
       "      <td>0.089423</td>\n",
       "      <td>-0.094782</td>\n",
       "      <td>1.000000</td>\n",
       "      <td>0.103867</td>\n",
       "    </tr>\n",
       "    <tr>\n",
       "      <th>Year</th>\n",
       "      <td>-0.153048</td>\n",
       "      <td>0.098894</td>\n",
       "      <td>0.051579</td>\n",
       "      <td>0.020765</td>\n",
       "      <td>-0.049980</td>\n",
       "      <td>-0.109284</td>\n",
       "      <td>0.071866</td>\n",
       "      <td>0.058474</td>\n",
       "      <td>-0.175680</td>\n",
       "      <td>0.104020</td>\n",
       "      <td>0.004140</td>\n",
       "      <td>0.103867</td>\n",
       "      <td>1.000000</td>\n",
       "    </tr>\n",
       "  </tbody>\n",
       "</table>\n",
       "</div>"
      ],
      "text/plain": [
       "                       Endurance  Strength     Power     Speed   Agility  \\\n",
       "Endurance               1.000000 -0.256159 -0.347055  0.616954  0.836156   \n",
       "Strength               -0.256159  1.000000  0.887065  0.374990 -0.074092   \n",
       "Power                  -0.347055  0.887065  1.000000  0.095691 -0.298369   \n",
       "Speed                   0.616954  0.374990  0.095691  1.000000  0.883579   \n",
       "Agility                 0.836156 -0.074092 -0.298369  0.883579  1.000000   \n",
       "Flexibility             0.631733 -0.328035 -0.327495  0.417814  0.707328   \n",
       "Nerve                  -0.184561  0.930916  0.831820  0.285631 -0.156844   \n",
       "Durability              0.217416  0.828049  0.533468  0.744607  0.420100   \n",
       "Hand-Eye Coordination   0.665338 -0.517156 -0.342645  0.144664  0.511163   \n",
       "Analytic Aptitude       0.169200 -0.122092 -0.492505  0.550696  0.601776   \n",
       "TOTAL                   0.495668  0.680744  0.468212  0.891083  0.659979   \n",
       "Earnings                0.103587 -0.204512 -0.220600  0.007298  0.085400   \n",
       "Year                   -0.153048  0.098894  0.051579  0.020765 -0.049980   \n",
       "\n",
       "                       Flexibility     Nerve  Durability  \\\n",
       "Endurance                 0.631733 -0.184561    0.217416   \n",
       "Strength                 -0.328035  0.930916    0.828049   \n",
       "Power                    -0.327495  0.831820    0.533468   \n",
       "Speed                     0.417814  0.285631    0.744607   \n",
       "Agility                   0.707328 -0.156844    0.420100   \n",
       "Flexibility               1.000000 -0.538122    0.019273   \n",
       "Nerve                    -0.538122  1.000000    0.758558   \n",
       "Durability                0.019273  0.758558    1.000000   \n",
       "Hand-Eye Coordination     0.890293 -0.611601   -0.273549   \n",
       "Analytic Aptitude         0.366911 -0.296251    0.253000   \n",
       "TOTAL                     0.277933  0.605383    0.915631   \n",
       "Earnings                  0.027791 -0.165160   -0.132889   \n",
       "Year                     -0.109284  0.071866    0.058474   \n",
       "\n",
       "                       Hand-Eye Coordination  Analytic Aptitude     TOTAL  \\\n",
       "Endurance                           0.665338           0.169200  0.495668   \n",
       "Strength                           -0.517156          -0.122092  0.680744   \n",
       "Power                              -0.342645          -0.492505  0.468212   \n",
       "Speed                               0.144664           0.550696  0.891083   \n",
       "Agility                             0.511163           0.601776  0.659979   \n",
       "Flexibility                         0.890293           0.366911  0.277933   \n",
       "Nerve                              -0.611601          -0.296251  0.605383   \n",
       "Durability                         -0.273549           0.253000  0.915631   \n",
       "Hand-Eye Coordination               1.000000          -0.020005  0.051230   \n",
       "Analytic Aptitude                  -0.020005           1.000000  0.219432   \n",
       "TOTAL                               0.051230           0.219432  1.000000   \n",
       "Earnings                            0.055268           0.089423 -0.094782   \n",
       "Year                               -0.175680           0.104020  0.004140   \n",
       "\n",
       "                       Earnings      Year  \n",
       "Endurance              0.103587 -0.153048  \n",
       "Strength              -0.204512  0.098894  \n",
       "Power                 -0.220600  0.051579  \n",
       "Speed                  0.007298  0.020765  \n",
       "Agility                0.085400 -0.049980  \n",
       "Flexibility            0.027791 -0.109284  \n",
       "Nerve                 -0.165160  0.071866  \n",
       "Durability            -0.132889  0.058474  \n",
       "Hand-Eye Coordination  0.055268 -0.175680  \n",
       "Analytic Aptitude      0.089423  0.104020  \n",
       "TOTAL                 -0.094782  0.004140  \n",
       "Earnings               1.000000  0.103867  \n",
       "Year                   0.103867  1.000000  "
      ]
     },
     "execution_count": 17,
     "metadata": {},
     "output_type": "execute_result"
    }
   ],
   "source": [
    "toptough.corr() #correlation between all qualitative variables in toptough dataframe"
   ]
  },
  {
   "cell_type": "code",
   "execution_count": 20,
   "id": "c6072019-d22f-470b-acc8-43a33ad4a700",
   "metadata": {},
   "outputs": [
    {
     "data": {
      "image/png": "[encoded data removed]",
      "text/plain": [
       "<Figure size 432x288 with 2 Axes>"
      ]
     },
     "metadata": {
      "needs_background": "light"
     },
     "output_type": "display_data"
    }
   ],
   "source": [
    "##Heat map between toughness & earnings\n",
    "corr = toptoughclean.corr()\n",
    "sb.heatmap(corr, cmap=\"Blues\", annot=True)\n",
    "plt.savefig('Correlation_Top100_Toughness.png')"
   ]
  },
  {
   "cell_type": "code",
   "execution_count": 21,
   "id": "f9baab3e-d53a-4a25-9074-2936c330a2c6",
   "metadata": {},
   "outputs": [
    {
     "data": {
      "image/png": "[encoded data removed]",
      "text/plain": [
       "<Figure size 432x288 with 2 Axes>"
      ]
     },
     "metadata": {
      "needs_background": "light"
     },
     "output_type": "display_data"
    }
   ],
   "source": [
    "##Heat map between all variables\n",
    "correl = toptough.corr()\n",
    "sb.heatmap(correl, cmap=\"Blues\", annot=True)\n",
    "plt.savefig('Correlation_Top100_ToughVars.png')"
   ]
  },
  {
   "cell_type": "markdown",
   "id": "aaa80ede-38e9-4847-99c2-a9e598c6ebbf",
   "metadata": {},
   "source": [
    "##### Research Question 1 Conclusion:\n",
    "No correlation between sport toughness & top 100 athlete earnings"
   ]
  },
  {
   "cell_type": "markdown",
   "id": "23f55b4e-d2f2-4ce9-8e43-1bbf431dbd73",
   "metadata": {},
   "source": [
    "#### Are the most popular sports by country tough?\n",
    "- Merge Tough & BR2008 Dataframes\n",
    "- Find correlations\n",
    "- Make heatmaps"
   ]
  },
  {
   "cell_type": "code",
   "execution_count": 29,
   "id": "5c7db900-14ca-4dea-b8af-2fd4b7a9b6c0",
   "metadata": {},
   "outputs": [
    {
     "data": {
      "text/html": [
       "<div>\n",
       "<style scoped>\n",
       "    .dataframe tbody tr th:only-of-type {\n",
       "        vertical-align: middle;\n",
       "    }\n",
       "\n",
       "    .dataframe tbody tr th {\n",
       "        vertical-align: top;\n",
       "    }\n",
       "\n",
       "    .dataframe thead th {\n",
       "        text-align: right;\n",
       "    }\n",
       "</style>\n",
       "<table border=\"1\" class=\"dataframe\">\n",
       "  <thead>\n",
       "    <tr style=\"text-align: right;\">\n",
       "      <th></th>\n",
       "      <th>Sport</th>\n",
       "      <th>Count</th>\n",
       "    </tr>\n",
       "  </thead>\n",
       "  <tbody>\n",
       "    <tr>\n",
       "      <th>0</th>\n",
       "      <td>Soccer</td>\n",
       "      <td>167</td>\n",
       "    </tr>\n",
       "    <tr>\n",
       "      <th>1</th>\n",
       "      <td>Cricket</td>\n",
       "      <td>8</td>\n",
       "    </tr>\n",
       "    <tr>\n",
       "      <th>2</th>\n",
       "      <td>Baseball</td>\n",
       "      <td>7</td>\n",
       "    </tr>\n",
       "    <tr>\n",
       "      <th>3</th>\n",
       "      <td>Basketball</td>\n",
       "      <td>5</td>\n",
       "    </tr>\n",
       "    <tr>\n",
       "      <th>4</th>\n",
       "      <td>Ice Hockey</td>\n",
       "      <td>4</td>\n",
       "    </tr>\n",
       "    <tr>\n",
       "      <th>5</th>\n",
       "      <td>Rugby</td>\n",
       "      <td>4</td>\n",
       "    </tr>\n",
       "    <tr>\n",
       "      <th>6</th>\n",
       "      <td>Archery</td>\n",
       "      <td>1</td>\n",
       "    </tr>\n",
       "    <tr>\n",
       "      <th>7</th>\n",
       "      <td>Gaelic Football</td>\n",
       "      <td>1</td>\n",
       "    </tr>\n",
       "    <tr>\n",
       "      <th>8</th>\n",
       "      <td>Mongolian Wrestling</td>\n",
       "      <td>1</td>\n",
       "    </tr>\n",
       "    <tr>\n",
       "      <th>9</th>\n",
       "      <td>Australian Football</td>\n",
       "      <td>1</td>\n",
       "    </tr>\n",
       "    <tr>\n",
       "      <th>10</th>\n",
       "      <td>Football</td>\n",
       "      <td>1</td>\n",
       "    </tr>\n",
       "  </tbody>\n",
       "</table>\n",
       "</div>"
      ],
      "text/plain": [
       "                  Sport  Count\n",
       "0                Soccer    167\n",
       "1               Cricket      8\n",
       "2              Baseball      7\n",
       "3            Basketball      5\n",
       "4            Ice Hockey      4\n",
       "5                 Rugby      4\n",
       "6               Archery      1\n",
       "7       Gaelic Football      1\n",
       "8   Mongolian Wrestling      1\n",
       "9   Australian Football      1\n",
       "10             Football      1"
      ]
     },
     "execution_count": 29,
     "metadata": {},
     "output_type": "execute_result"
    }
   ],
   "source": [
    "BR2008.reset_index(inplace=True) #making index Sport to be able to merge with tough df\n",
    "BR2008=BR2008.rename(columns = {'index':'Sport'})\n",
    "BR2008"
   ]
  },
  {
   "cell_type": "code",
   "execution_count": 30,
   "id": "a891ecb6-c974-4ba1-b2a6-841ae7c61a4c",
   "metadata": {
    "scrolled": true,
    "tags": []
   },
   "outputs": [
    {
     "data": {
      "text/html": [
       "<div>\n",
       "<style scoped>\n",
       "    .dataframe tbody tr th:only-of-type {\n",
       "        vertical-align: middle;\n",
       "    }\n",
       "\n",
       "    .dataframe tbody tr th {\n",
       "        vertical-align: top;\n",
       "    }\n",
       "\n",
       "    .dataframe thead th {\n",
       "        text-align: right;\n",
       "    }\n",
       "</style>\n",
       "<table border=\"1\" class=\"dataframe\">\n",
       "  <thead>\n",
       "    <tr style=\"text-align: right;\">\n",
       "      <th></th>\n",
       "      <th>TOTAL</th>\n",
       "      <th>Count</th>\n",
       "    </tr>\n",
       "  </thead>\n",
       "  <tbody>\n",
       "    <tr>\n",
       "      <th>TOTAL</th>\n",
       "      <td>1.000000</td>\n",
       "      <td>0.062476</td>\n",
       "    </tr>\n",
       "    <tr>\n",
       "      <th>Count</th>\n",
       "      <td>0.062476</td>\n",
       "      <td>1.000000</td>\n",
       "    </tr>\n",
       "  </tbody>\n",
       "</table>\n",
       "</div>"
      ],
      "text/plain": [
       "          TOTAL     Count\n",
       "TOTAL  1.000000  0.062476\n",
       "Count  0.062476  1.000000"
      ]
     },
     "execution_count": 30,
     "metadata": {},
     "output_type": "execute_result"
    }
   ],
   "source": [
    "PopTough=pd.merge(tough,BR2008, on='Sport') #merging BR2008 & tough together on sport\n",
    "PopToughClean=PopTough.drop('Endurance', axis=1) #getting rid of unnecessary colummns\n",
    "PopToughClean=PopToughClean.drop('Strength', axis=1)\n",
    "PopToughClean=PopToughClean.drop('Power', axis=1)\n",
    "PopToughClean=PopToughClean.drop('Speed', axis=1)\n",
    "PopToughClean=PopToughClean.drop('Agility', axis=1)\n",
    "PopToughClean=PopToughClean.drop('Flexibility', axis=1)\n",
    "PopToughClean=PopToughClean.drop('Nerve', axis=1)\n",
    "PopToughClean=PopToughClean.drop('Durability', axis=1)\n",
    "PopToughClean=PopToughClean.drop('Hand-Eye Coordination', axis=1)\n",
    "PopToughClean=PopToughClean.drop('Analytic Aptitude', axis=1)\n",
    "\n",
    "PopToughClean.corr() #correlation between total toughness & popularity by country"
   ]
  },
  {
   "cell_type": "code",
   "execution_count": 31,
   "id": "c4842b43-b832-4e90-a3fd-9832b095258d",
   "metadata": {},
   "outputs": [
    {
     "data": {
      "text/html": [
       "<div>\n",
       "<style scoped>\n",
       "    .dataframe tbody tr th:only-of-type {\n",
       "        vertical-align: middle;\n",
       "    }\n",
       "\n",
       "    .dataframe tbody tr th {\n",
       "        vertical-align: top;\n",
       "    }\n",
       "\n",
       "    .dataframe thead th {\n",
       "        text-align: right;\n",
       "    }\n",
       "</style>\n",
       "<table border=\"1\" class=\"dataframe\">\n",
       "  <thead>\n",
       "    <tr style=\"text-align: right;\">\n",
       "      <th></th>\n",
       "      <th>Endurance</th>\n",
       "      <th>Strength</th>\n",
       "      <th>Power</th>\n",
       "      <th>Speed</th>\n",
       "      <th>Agility</th>\n",
       "      <th>Flexibility</th>\n",
       "      <th>Nerve</th>\n",
       "      <th>Durability</th>\n",
       "      <th>Hand-Eye Coordination</th>\n",
       "      <th>Analytic Aptitude</th>\n",
       "      <th>TOTAL</th>\n",
       "      <th>Count</th>\n",
       "    </tr>\n",
       "  </thead>\n",
       "  <tbody>\n",
       "    <tr>\n",
       "      <th>Endurance</th>\n",
       "      <td>1.000000</td>\n",
       "      <td>0.165915</td>\n",
       "      <td>0.537414</td>\n",
       "      <td>0.889708</td>\n",
       "      <td>0.957546</td>\n",
       "      <td>0.890545</td>\n",
       "      <td>0.264139</td>\n",
       "      <td>0.743209</td>\n",
       "      <td>0.133192</td>\n",
       "      <td>0.861778</td>\n",
       "      <td>0.827519</td>\n",
       "      <td>0.424487</td>\n",
       "    </tr>\n",
       "    <tr>\n",
       "      <th>Strength</th>\n",
       "      <td>0.165915</td>\n",
       "      <td>1.000000</td>\n",
       "      <td>0.895999</td>\n",
       "      <td>0.517046</td>\n",
       "      <td>0.292692</td>\n",
       "      <td>0.326211</td>\n",
       "      <td>0.945108</td>\n",
       "      <td>0.781647</td>\n",
       "      <td>-0.329774</td>\n",
       "      <td>0.416050</td>\n",
       "      <td>0.654683</td>\n",
       "      <td>-0.554886</td>\n",
       "    </tr>\n",
       "    <tr>\n",
       "      <th>Power</th>\n",
       "      <td>0.537414</td>\n",
       "      <td>0.895999</td>\n",
       "      <td>1.000000</td>\n",
       "      <td>0.823568</td>\n",
       "      <td>0.656683</td>\n",
       "      <td>0.657444</td>\n",
       "      <td>0.867545</td>\n",
       "      <td>0.941846</td>\n",
       "      <td>-0.065656</td>\n",
       "      <td>0.754892</td>\n",
       "      <td>0.908702</td>\n",
       "      <td>-0.272395</td>\n",
       "    </tr>\n",
       "    <tr>\n",
       "      <th>Speed</th>\n",
       "      <td>0.889708</td>\n",
       "      <td>0.517046</td>\n",
       "      <td>0.823568</td>\n",
       "      <td>1.000000</td>\n",
       "      <td>0.964962</td>\n",
       "      <td>0.910215</td>\n",
       "      <td>0.548717</td>\n",
       "      <td>0.914425</td>\n",
       "      <td>0.102792</td>\n",
       "      <td>0.980017</td>\n",
       "      <td>0.982007</td>\n",
       "      <td>0.246321</td>\n",
       "    </tr>\n",
       "    <tr>\n",
       "      <th>Agility</th>\n",
       "      <td>0.957546</td>\n",
       "      <td>0.292692</td>\n",
       "      <td>0.656683</td>\n",
       "      <td>0.964962</td>\n",
       "      <td>1.000000</td>\n",
       "      <td>0.953196</td>\n",
       "      <td>0.328520</td>\n",
       "      <td>0.807666</td>\n",
       "      <td>0.209010</td>\n",
       "      <td>0.967505</td>\n",
       "      <td>0.910861</td>\n",
       "      <td>0.394123</td>\n",
       "    </tr>\n",
       "    <tr>\n",
       "      <th>Flexibility</th>\n",
       "      <td>0.890545</td>\n",
       "      <td>0.326211</td>\n",
       "      <td>0.657444</td>\n",
       "      <td>0.910215</td>\n",
       "      <td>0.953196</td>\n",
       "      <td>1.000000</td>\n",
       "      <td>0.273420</td>\n",
       "      <td>0.790225</td>\n",
       "      <td>0.339453</td>\n",
       "      <td>0.921977</td>\n",
       "      <td>0.886012</td>\n",
       "      <td>0.188721</td>\n",
       "    </tr>\n",
       "    <tr>\n",
       "      <th>Nerve</th>\n",
       "      <td>0.264139</td>\n",
       "      <td>0.945108</td>\n",
       "      <td>0.867545</td>\n",
       "      <td>0.548717</td>\n",
       "      <td>0.328520</td>\n",
       "      <td>0.273420</td>\n",
       "      <td>1.000000</td>\n",
       "      <td>0.802261</td>\n",
       "      <td>-0.511861</td>\n",
       "      <td>0.415710</td>\n",
       "      <td>0.662188</td>\n",
       "      <td>-0.385697</td>\n",
       "    </tr>\n",
       "    <tr>\n",
       "      <th>Durability</th>\n",
       "      <td>0.743209</td>\n",
       "      <td>0.781647</td>\n",
       "      <td>0.941846</td>\n",
       "      <td>0.914425</td>\n",
       "      <td>0.807666</td>\n",
       "      <td>0.790225</td>\n",
       "      <td>0.802261</td>\n",
       "      <td>1.000000</td>\n",
       "      <td>-0.150489</td>\n",
       "      <td>0.830597</td>\n",
       "      <td>0.966380</td>\n",
       "      <td>-0.097342</td>\n",
       "    </tr>\n",
       "    <tr>\n",
       "      <th>Hand-Eye Coordination</th>\n",
       "      <td>0.133192</td>\n",
       "      <td>-0.329774</td>\n",
       "      <td>-0.065656</td>\n",
       "      <td>0.102792</td>\n",
       "      <td>0.209010</td>\n",
       "      <td>0.339453</td>\n",
       "      <td>-0.511861</td>\n",
       "      <td>-0.150489</td>\n",
       "      <td>1.000000</td>\n",
       "      <td>0.249717</td>\n",
       "      <td>0.061416</td>\n",
       "      <td>0.073113</td>\n",
       "    </tr>\n",
       "    <tr>\n",
       "      <th>Analytic Aptitude</th>\n",
       "      <td>0.861778</td>\n",
       "      <td>0.416050</td>\n",
       "      <td>0.754892</td>\n",
       "      <td>0.980017</td>\n",
       "      <td>0.967505</td>\n",
       "      <td>0.921977</td>\n",
       "      <td>0.415710</td>\n",
       "      <td>0.830597</td>\n",
       "      <td>0.249717</td>\n",
       "      <td>1.000000</td>\n",
       "      <td>0.941422</td>\n",
       "      <td>0.330142</td>\n",
       "    </tr>\n",
       "    <tr>\n",
       "      <th>TOTAL</th>\n",
       "      <td>0.827519</td>\n",
       "      <td>0.654683</td>\n",
       "      <td>0.908702</td>\n",
       "      <td>0.982007</td>\n",
       "      <td>0.910861</td>\n",
       "      <td>0.886012</td>\n",
       "      <td>0.662188</td>\n",
       "      <td>0.966380</td>\n",
       "      <td>0.061416</td>\n",
       "      <td>0.941422</td>\n",
       "      <td>1.000000</td>\n",
       "      <td>0.062476</td>\n",
       "    </tr>\n",
       "    <tr>\n",
       "      <th>Count</th>\n",
       "      <td>0.424487</td>\n",
       "      <td>-0.554886</td>\n",
       "      <td>-0.272395</td>\n",
       "      <td>0.246321</td>\n",
       "      <td>0.394123</td>\n",
       "      <td>0.188721</td>\n",
       "      <td>-0.385697</td>\n",
       "      <td>-0.097342</td>\n",
       "      <td>0.073113</td>\n",
       "      <td>0.330142</td>\n",
       "      <td>0.062476</td>\n",
       "      <td>1.000000</td>\n",
       "    </tr>\n",
       "  </tbody>\n",
       "</table>\n",
       "</div>"
      ],
      "text/plain": [
       "                       Endurance  Strength     Power     Speed   Agility  \\\n",
       "Endurance               1.000000  0.165915  0.537414  0.889708  0.957546   \n",
       "Strength                0.165915  1.000000  0.895999  0.517046  0.292692   \n",
       "Power                   0.537414  0.895999  1.000000  0.823568  0.656683   \n",
       "Speed                   0.889708  0.517046  0.823568  1.000000  0.964962   \n",
       "Agility                 0.957546  0.292692  0.656683  0.964962  1.000000   \n",
       "Flexibility             0.890545  0.326211  0.657444  0.910215  0.953196   \n",
       "Nerve                   0.264139  0.945108  0.867545  0.548717  0.328520   \n",
       "Durability              0.743209  0.781647  0.941846  0.914425  0.807666   \n",
       "Hand-Eye Coordination   0.133192 -0.329774 -0.065656  0.102792  0.209010   \n",
       "Analytic Aptitude       0.861778  0.416050  0.754892  0.980017  0.967505   \n",
       "TOTAL                   0.827519  0.654683  0.908702  0.982007  0.910861   \n",
       "Count                   0.424487 -0.554886 -0.272395  0.246321  0.394123   \n",
       "\n",
       "                       Flexibility     Nerve  Durability  \\\n",
       "Endurance                 0.890545  0.264139    0.743209   \n",
       "Strength                  0.326211  0.945108    0.781647   \n",
       "Power                     0.657444  0.867545    0.941846   \n",
       "Speed                     0.910215  0.548717    0.914425   \n",
       "Agility                   0.953196  0.328520    0.807666   \n",
       "Flexibility               1.000000  0.273420    0.790225   \n",
       "Nerve                     0.273420  1.000000    0.802261   \n",
       "Durability                0.790225  0.802261    1.000000   \n",
       "Hand-Eye Coordination     0.339453 -0.511861   -0.150489   \n",
       "Analytic Aptitude         0.921977  0.415710    0.830597   \n",
       "TOTAL                     0.886012  0.662188    0.966380   \n",
       "Count                     0.188721 -0.385697   -0.097342   \n",
       "\n",
       "                       Hand-Eye Coordination  Analytic Aptitude     TOTAL  \\\n",
       "Endurance                           0.133192           0.861778  0.827519   \n",
       "Strength                           -0.329774           0.416050  0.654683   \n",
       "Power                              -0.065656           0.754892  0.908702   \n",
       "Speed                               0.102792           0.980017  0.982007   \n",
       "Agility                             0.209010           0.967505  0.910861   \n",
       "Flexibility                         0.339453           0.921977  0.886012   \n",
       "Nerve                              -0.511861           0.415710  0.662188   \n",
       "Durability                         -0.150489           0.830597  0.966380   \n",
       "Hand-Eye Coordination               1.000000           0.249717  0.061416   \n",
       "Analytic Aptitude                   0.249717           1.000000  0.941422   \n",
       "TOTAL                               0.061416           0.941422  1.000000   \n",
       "Count                               0.073113           0.330142  0.062476   \n",
       "\n",
       "                          Count  \n",
       "Endurance              0.424487  \n",
       "Strength              -0.554886  \n",
       "Power                 -0.272395  \n",
       "Speed                  0.246321  \n",
       "Agility                0.394123  \n",
       "Flexibility            0.188721  \n",
       "Nerve                 -0.385697  \n",
       "Durability            -0.097342  \n",
       "Hand-Eye Coordination  0.073113  \n",
       "Analytic Aptitude      0.330142  \n",
       "TOTAL                  0.062476  \n",
       "Count                  1.000000  "
      ]
     },
     "execution_count": 31,
     "metadata": {},
     "output_type": "execute_result"
    }
   ],
   "source": [
    "PopTough.corr() #correlation between all numeric variables & popularity by country"
   ]
  },
  {
   "cell_type": "code",
   "execution_count": 32,
   "id": "1d71e20b-9664-4c5e-92e2-eb9afb98aa79",
   "metadata": {},
   "outputs": [
    {
     "data": {
      "text/plain": [
       "<AxesSubplot:>"
      ]
     },
     "execution_count": 32,
     "metadata": {},
     "output_type": "execute_result"
    },
    {
     "data": {
      "image/png": "[encoded data removed]",
      "text/plain": [
       "<Figure size 432x288 with 2 Axes>"
      ]
     },
     "metadata": {
      "needs_background": "light"
     },
     "output_type": "display_data"
    }
   ],
   "source": [
    "##Heat map between all variables\n",
    "correl = PopToughClean.corr() #count means Count of countries where sport is most popular\n",
    "sb.heatmap(correl, cmap=\"Blues\", annot=True)"
   ]
  },
  {
   "cell_type": "code",
   "execution_count": 33,
   "id": "3e1f8d75-a0af-4d33-ab98-3dce1d4c623f",
   "metadata": {},
   "outputs": [
    {
     "data": {
      "text/plain": [
       "<AxesSubplot:>"
      ]
     },
     "execution_count": 33,
     "metadata": {},
     "output_type": "execute_result"
    },
    {
     "data": {
      "image/png": "[encoded data removed]",
      "text/plain": [
       "<Figure size 432x288 with 2 Axes>"
      ]
     },
     "metadata": {
      "needs_background": "light"
     },
     "output_type": "display_data"
    }
   ],
   "source": [
    "##Heat map between all variables; not deleting excess columns because it's interesting to see relation between them\n",
    "correl = PopTough.corr()##count means # of countries where sport is most popular\n",
    "sb.heatmap(correl, cmap=\"Blues\", annot=True)"
   ]
  },
  {
   "cell_type": "markdown",
   "id": "2b4dd5dc-4dfd-452c-ba05-185c5edc5265",
   "metadata": {},
   "source": [
    "##### Research Question 2 Conclusion:\n",
    "No correlation between sport toughness & sport popularity by country"
   ]
  },
  {
   "cell_type": "markdown",
   "id": "d84c5521-099b-45c8-8499-c397ce388a8e",
   "metadata": {},
   "source": [
    "#### Do popular sports by country impact Top 100 paid athletes?\n",
    "- Merge Top100 & BR2008 Dataframes\n",
    "- Find correlations\n",
    "- Make heatmaps"
   ]
  },
  {
   "cell_type": "code",
   "execution_count": 34,
   "id": "7f9ad0cc-5755-4bbb-bf07-b591f5d85f6b",
   "metadata": {},
   "outputs": [
    {
     "data": {
      "image/png": "[encoded data removed]",
      "text/plain": [
       "<Figure size 432x288 with 2 Axes>"
      ]
     },
     "metadata": {
      "needs_background": "light"
     },
     "output_type": "display_data"
    }
   ],
   "source": [
    "#merging top100 athletes & sports by country BR2008\n",
    "Top100bySportCountry=pd.merge(BR2008,top100, on='Sport') #merging top100 athletes & sports by country BR2008\n",
    "Top100bySportCountry=Top100bySportCountry.drop('Year', axis=1) #dropping 'year' column that came from top100\n",
    "cor=Top100bySportCountry.corr() #correlation between Sports by Country & Top100 Earnings\n",
    "sb.heatmap(cor, cmap=\"Blues\", annot=True) #correlation heatmap\n",
    "plt.savefig('EarningsByPopularSport.png') #saving as png"
   ]
  },
  {
   "cell_type": "markdown",
   "id": "fdbfcd29-47c6-42f8-8930-ee7c9f2b4fe9",
   "metadata": {},
   "source": [
    "##### Research Question 3 Conclusion:\n",
    "No correlation between sport popularity by country & top 100 athlete earnings"
   ]
  },
  {
   "cell_type": "code",
   "execution_count": 38,
   "id": "ddbd20e9-d341-486c-a7f2-cf2a4bae54b3",
   "metadata": {},
   "outputs": [
    {
     "data": {
      "text/html": [
       "<div>\n",
       "<style scoped>\n",
       "    .dataframe tbody tr th:only-of-type {\n",
       "        vertical-align: middle;\n",
       "    }\n",
       "\n",
       "    .dataframe tbody tr th {\n",
       "        vertical-align: top;\n",
       "    }\n",
       "\n",
       "    .dataframe thead th {\n",
       "        text-align: right;\n",
       "    }\n",
       "</style>\n",
       "<table border=\"1\" class=\"dataframe\">\n",
       "  <thead>\n",
       "    <tr style=\"text-align: right;\">\n",
       "      <th></th>\n",
       "      <th>Sport</th>\n",
       "      <th># of Countries</th>\n",
       "      <th>Toughness</th>\n",
       "      <th>Player Name</th>\n",
       "      <th>Earnings ($M)</th>\n",
       "    </tr>\n",
       "  </thead>\n",
       "  <tbody>\n",
       "    <tr>\n",
       "      <th>0</th>\n",
       "      <td>Soccer</td>\n",
       "      <td>167</td>\n",
       "      <td>61</td>\n",
       "      <td>Lionel Messi</td>\n",
       "      <td>130</td>\n",
       "    </tr>\n",
       "    <tr>\n",
       "      <th>1</th>\n",
       "      <td>Soccer</td>\n",
       "      <td>167</td>\n",
       "      <td>61</td>\n",
       "      <td>Cristiano Ronaldo</td>\n",
       "      <td>120</td>\n",
       "    </tr>\n",
       "    <tr>\n",
       "      <th>2</th>\n",
       "      <td>Soccer</td>\n",
       "      <td>167</td>\n",
       "      <td>61</td>\n",
       "      <td>Neymar</td>\n",
       "      <td>95</td>\n",
       "    </tr>\n",
       "    <tr>\n",
       "      <th>3</th>\n",
       "      <td>Soccer</td>\n",
       "      <td>167</td>\n",
       "      <td>61</td>\n",
       "      <td>Kylian Mbappe</td>\n",
       "      <td>40</td>\n",
       "    </tr>\n",
       "    <tr>\n",
       "      <th>4</th>\n",
       "      <td>Soccer</td>\n",
       "      <td>167</td>\n",
       "      <td>61</td>\n",
       "      <td>Mohamed Salah</td>\n",
       "      <td>37</td>\n",
       "    </tr>\n",
       "    <tr>\n",
       "      <th>...</th>\n",
       "      <td>...</td>\n",
       "      <td>...</td>\n",
       "      <td>...</td>\n",
       "      <td>...</td>\n",
       "      <td>...</td>\n",
       "    </tr>\n",
       "    <tr>\n",
       "      <th>1876</th>\n",
       "      <td>Football</td>\n",
       "      <td>1</td>\n",
       "      <td>68</td>\n",
       "      <td>Julio Jones</td>\n",
       "      <td>40</td>\n",
       "    </tr>\n",
       "    <tr>\n",
       "      <th>1877</th>\n",
       "      <td>Football</td>\n",
       "      <td>1</td>\n",
       "      <td>68</td>\n",
       "      <td>Grady Jarrett</td>\n",
       "      <td>33</td>\n",
       "    </tr>\n",
       "    <tr>\n",
       "      <th>1878</th>\n",
       "      <td>Football</td>\n",
       "      <td>1</td>\n",
       "      <td>68</td>\n",
       "      <td>Michael Thomas</td>\n",
       "      <td>32</td>\n",
       "    </tr>\n",
       "    <tr>\n",
       "      <th>1879</th>\n",
       "      <td>Football</td>\n",
       "      <td>1</td>\n",
       "      <td>68</td>\n",
       "      <td>Aaron Rodgers</td>\n",
       "      <td>30</td>\n",
       "    </tr>\n",
       "    <tr>\n",
       "      <th>1880</th>\n",
       "      <td>Football</td>\n",
       "      <td>1</td>\n",
       "      <td>68</td>\n",
       "      <td>Matt Ryan</td>\n",
       "      <td>29</td>\n",
       "    </tr>\n",
       "  </tbody>\n",
       "</table>\n",
       "<p>1881 rows × 5 columns</p>\n",
       "</div>"
      ],
      "text/plain": [
       "         Sport  # of Countries  Toughness        Player Name  Earnings ($M)\n",
       "0       Soccer             167         61       Lionel Messi            130\n",
       "1       Soccer             167         61  Cristiano Ronaldo            120\n",
       "2       Soccer             167         61             Neymar             95\n",
       "3       Soccer             167         61      Kylian Mbappe             40\n",
       "4       Soccer             167         61      Mohamed Salah             37\n",
       "...        ...             ...        ...                ...            ...\n",
       "1876  Football               1         68        Julio Jones             40\n",
       "1877  Football               1         68      Grady Jarrett             33\n",
       "1878  Football               1         68     Michael Thomas             32\n",
       "1879  Football               1         68      Aaron Rodgers             30\n",
       "1880  Football               1         68          Matt Ryan             29\n",
       "\n",
       "[1881 rows x 5 columns]"
      ]
     },
     "execution_count": 38,
     "metadata": {},
     "output_type": "execute_result"
    }
   ],
   "source": [
    "#merging all dataframes together\n",
    "FinalBoss=pd.merge(Top100bySportCountry,toptoughclean, on='Sport') #merging top100 athletes & sports by country BR2008\n",
    "FinalBoss=FinalBoss.drop('Earnings_x', axis=1) #droping duplicate column\n",
    "FinalBoss=FinalBoss.drop('Name', axis=1) #droping duplicate column\n",
    "FinalBoss=FinalBoss.rename(columns={'Count':'# of Countries','Earnings_y':'Earnings ($M)'})\n",
    "FinalBoss.to_csv('all3Merge_FinalVersionFile.csv') ##final merged file***\n",
    "FinalBoss"
   ]
  },
  {
   "cell_type": "code",
   "execution_count": 36,
   "id": "c9f41cc0-bc1d-40c3-bcfd-ece26abc2aa6",
   "metadata": {},
   "outputs": [
    {
     "data": {
      "text/html": [
       "<div>\n",
       "<style scoped>\n",
       "    .dataframe tbody tr th:only-of-type {\n",
       "        vertical-align: middle;\n",
       "    }\n",
       "\n",
       "    .dataframe tbody tr th {\n",
       "        vertical-align: top;\n",
       "    }\n",
       "\n",
       "    .dataframe thead th {\n",
       "        text-align: right;\n",
       "    }\n",
       "</style>\n",
       "<table border=\"1\" class=\"dataframe\">\n",
       "  <thead>\n",
       "    <tr style=\"text-align: right;\">\n",
       "      <th></th>\n",
       "      <th># of Countries</th>\n",
       "      <th>Toughness</th>\n",
       "      <th>Earnings ($M)</th>\n",
       "    </tr>\n",
       "  </thead>\n",
       "  <tbody>\n",
       "    <tr>\n",
       "      <th># of Countries</th>\n",
       "      <td>1.000000</td>\n",
       "      <td>-0.985082</td>\n",
       "      <td>0.241181</td>\n",
       "    </tr>\n",
       "    <tr>\n",
       "      <th>Toughness</th>\n",
       "      <td>-0.985082</td>\n",
       "      <td>1.000000</td>\n",
       "      <td>-0.247791</td>\n",
       "    </tr>\n",
       "    <tr>\n",
       "      <th>Earnings ($M)</th>\n",
       "      <td>0.241181</td>\n",
       "      <td>-0.247791</td>\n",
       "      <td>1.000000</td>\n",
       "    </tr>\n",
       "  </tbody>\n",
       "</table>\n",
       "</div>"
      ],
      "text/plain": [
       "                # of Countries  Toughness  Earnings ($M)\n",
       "# of Countries        1.000000  -0.985082       0.241181\n",
       "Toughness            -0.985082   1.000000      -0.247791\n",
       "Earnings ($M)         0.241181  -0.247791       1.000000"
      ]
     },
     "execution_count": 36,
     "metadata": {},
     "output_type": "execute_result"
    }
   ],
   "source": [
    "FinalBoss.corr() #correlation of popularity by country, sport toughness, & athlete earnings"
   ]
  },
  {
   "cell_type": "code",
   "execution_count": 37,
   "id": "9944732f-c2ff-427b-b1d2-59094476c080",
   "metadata": {},
   "outputs": [
    {
     "data": {
      "text/plain": [
       "<AxesSubplot:>"
      ]
     },
     "execution_count": 37,
     "metadata": {},
     "output_type": "execute_result"
    },
    {
     "data": {
      "image/png": "[encoded data removed]",
      "text/plain": [
       "<Figure size 432x288 with 2 Axes>"
      ]
     },
     "metadata": {
      "needs_background": "light"
     },
     "output_type": "display_data"
    }
   ],
   "source": [
    "FinalBoss.corr() #heatmap of FinalBoss correlation\n",
    "sb.heatmap(FinalBoss.corr(), cmap=\"Greens\", annot=True)"
   ]
  },
  {
   "cell_type": "markdown",
   "id": "74626aa2-441a-4fd7-bbfb-80bb71670a73",
   "metadata": {},
   "source": [
    "### Conclusion\n",
    "From the data sources, it was found that there is weak correlation between sport popularity, toughness, and top player earnings. "
   ]
  }
 ],
 "metadata": {
  "kernelspec": {
   "display_name": "Python 3 (ipykernel)",
   "language": "python",
   "name": "python3"
  },
  "language_info": {
   "codemirror_mode": {
    "name": "ipython",
    "version": 3
   },
   "file_extension": ".py",
   "mimetype": "text/x-python",
   "name": "python",
   "nbconvert_exporter": "python",
   "pygments_lexer": "ipython3",
   "version": "3.9.12"
  }
 },
 "nbformat": 4,
 "nbformat_minor": 5
}
