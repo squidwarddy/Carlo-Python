{
 "cells": [
  {
   "cell_type": "code",
   "execution_count": 1,
   "id": "f8d34c11-c6ef-4d8a-9198-f68185312912",
   "metadata": {},
   "outputs": [
    {
     "data": {
      "text/plain": [
       "'C:\\\\Users\\\\15857\\\\info 4120\\\\week 6'"
      ]
     },
     "execution_count": 1,
     "metadata": {},
     "output_type": "execute_result"
    }
   ],
   "source": [
    "#importing packages\n",
    "import pandas as pd\n",
    "import numpy as np\n",
    "from numpy import nan as NA\n",
    "from pandas import DataFrame\n",
    "import matplotlib.pyplot as plt\n",
    "import seaborn as sb\n",
    "\n",
    "\n",
    "#Set the path\n",
    "import os\n",
    "os.chdir('C:\\\\Users\\\\15857\\\\info 4120\\\\week 6') #making sure working out of correct file\n",
    "os.getcwd()"
   ]
  },
  {
   "cell_type": "code",
   "execution_count": 2,
   "id": "b7bf66bc-0b69-4d62-bd95-7a21c46a6af9",
   "metadata": {},
   "outputs": [],
   "source": [
    "#import athlete earnings csv file\n",
    "highestpaid= DataFrame(pd.read_csv('forbesathletesv2.csv'))\n",
    "top100=highestpaid.loc[:100] #top 100 players\n",
    "\n",
    "#import Popular sports by country csv file\n",
    "country=DataFrame(pd.read_csv('sports_by_country.csv'))#import csv file\n",
    "country.index=list(country.country) #putting country colummn as index\n",
    "country=country.drop('country', axis=1) #dropping  column because it is now a duplicate of index\n",
    "country.fillna('missing', inplace=True)\n",
    "\n",
    "dictbabbel={'babbel2021':\n",
    "      {'Football (soccer)':\"Soccer\", 'American Football (NFL)':\"Football\"}}\n",
    "dictBR={'bleacherRep2008':\n",
    "        {'Football (soccer)':\"Soccer\", 'American Football (NFL)':\"Football\"}}\n",
    "dictMPS={'mostPopularSports':\n",
    "        {'Football (soccer)':\"Soccer\", 'American Football (NFL)':\"Football\"}}\n",
    "country.replace(dictbabbel,inplace=True)\n",
    "country.replace(dictBR,inplace=True)\n",
    "country.replace(dictMPS,inplace=True)\n",
    "BR2008=DataFrame(country.bleacherRep2008.value_counts())\n",
    "BR2008.reset_index(inplace=True) #making index Sport to be able to merge with tough df\n",
    "BR2008=BR2008.rename(columns = {'index':'Sport'})\n",
    "#country.bleacherRep2008.value_counts() #count of Bleacher Report 2008 column variables\n",
    "#going forward, only going to use bleacherRep2008 column of country dataframe since there are no missing variables\n",
    "\n",
    "#import sport toughness csv file\n",
    "tough= DataFrame(pd.read_csv('toughestsport.csv'))#import csv file\n",
    "tough.index=list(tough.RANK) #putting rank colummn as index\n",
    "tough=tough.drop('RANK', axis=1) #dropping rank column because it is now a duplicate of index\n",
    "#changing column names to be more easily read/understood\n",
    "tough=tough.rename(columns={'SPORT':'Sport','END':'Endurance','STR':\"Strength\",'PWR':'Power','SPD':'Speed','AGI':'Agility','FLX':'Flexibility'})\n",
    "tough=tough.rename(columns={'NER':'Nerve','DUR':\"Durability\",'HAN':'Hand-Eye Coordination','ANA':'Analytic Aptitude'})"
   ]
  },
  {
   "cell_type": "code",
   "execution_count": 3,
   "id": "7957c434-3162-40f3-afe1-2e915004fc1a",
   "metadata": {},
   "outputs": [],
   "source": [
    "#merged files\n",
    "PopTough=pd.merge(tough,BR2008, on='Sport') #merging BR2008 & tough together on sport\n",
    "PopToughClean=PopTough.drop('Endurance', axis=1) #getting rid of unnecessary colummns\n",
    "PopToughClean=PopToughClean.drop('Strength', axis=1)\n",
    "PopToughClean=PopToughClean.drop('Power', axis=1)\n",
    "PopToughClean=PopToughClean.drop('Speed', axis=1)\n",
    "PopToughClean=PopToughClean.drop('Agility', axis=1)\n",
    "PopToughClean=PopToughClean.drop('Flexibility', axis=1)\n",
    "PopToughClean=PopToughClean.drop('Nerve', axis=1)\n",
    "PopToughClean=PopToughClean.drop('Durability', axis=1)\n",
    "PopToughClean=PopToughClean.drop('Hand-Eye Coordination', axis=1)\n",
    "PopToughClean=PopToughClean.drop('Analytic Aptitude', axis=1)"
   ]
  },
  {
   "cell_type": "code",
   "execution_count": 17,
   "id": "ae47f21c-9402-467c-aa0e-d7b0c4813536",
   "metadata": {},
   "outputs": [
    {
     "name": "stdout",
     "output_type": "stream",
     "text": [
      "[1] Bar Graph for Top 100 Paid Athletes by Sport\n",
      "[2] Bar Graph for Sport Popularity by Country\n",
      "[3] Correlation Heatmap: Toughness & Top 100 Earnings\n",
      "[4] Descriptive Statistics for Toughness by Country\n"
     ]
    },
    {
     "name": "stdin",
     "output_type": "stream",
     "text": [
      "Select option number: 1\n"
     ]
    },
    {
     "name": "stdout",
     "output_type": "stream",
     "text": [
      "Bar Graph for Top 100 Paid Athletes by Sport\n"
     ]
    },
    {
     "data": {
      "text/plain": [
       "()"
      ]
     },
     "execution_count": 17,
     "metadata": {},
     "output_type": "execute_result"
    },
    {
     "data": {
      "image/png": "[encoded data removed]",
      "text/plain": [
       "<Figure size 432x288 with 1 Axes>"
      ]
     },
     "metadata": {
      "needs_background": "light"
     },
     "output_type": "display_data"
    }
   ],
   "source": [
    "def menu():\n",
    "    print(\"[1] Bar Graph for Top 100 Paid Athletes by Sport\")\n",
    "    print(\"[2] Bar Graph for Sport Popularity by Country\")\n",
    "    print(\"[3] Correlation Heatmap: Toughness & Top 100 Earnings\")\n",
    "    print(\"[4] Descriptive Statistics for Toughness by Country\")\n",
    "\n",
    "    option=int(input(\"Select option number:\"))\n",
    "    while option !=0:\n",
    "        if option ==1: #do option 1\n",
    "            print(\"Bar Graph for Top 100 Paid Athletes by Sport\")\n",
    "            sportCounts=DataFrame(top100.Sport.value_counts()) #making dataframe for # of athletes in each sport for top 100\n",
    "            sportCounts.columns =['Count']\n",
    "            sportCounts.plot(kind='bar', color='green', title='Top 100 Paid Athletes by Sport', xlabel='sport', ylabel='# of Athletes')\n",
    "            plt.savefig('Top_100_Earn_By_Sport.png')\n",
    "\n",
    "        elif option == 2: #do option 2\n",
    "            print(\"Bar Graph for Sport Popularity by Country\")\n",
    "            BR2008=DataFrame(country.bleacherRep2008.value_counts()) #making dataframe for sport popularity by country\n",
    "            BR2008.columns =['Count']  #making bar graph showing athlete # by sport\n",
    "            BR2008.plot(kind='bar', color='purple', title='Popular Sports by Country', xlabel='Sport', ylabel='#of Countries') \n",
    "\n",
    "        elif option==3:\n",
    "            print(\"Correlation Heatmap: Toughness & Top 100 Earnings\")\n",
    "            toptough=pd.merge(tough,top100, on='Sport') #merging top100 & tough together on sport\n",
    "            toptoughclean=toptough.drop('Endurance', axis=1) #getting rid of unnecessary colummns\n",
    "            toptoughclean=toptoughclean.drop('Strength', axis=1)\n",
    "            toptoughclean=toptoughclean.drop('Power', axis=1)\n",
    "            toptoughclean=toptoughclean.drop('Speed', axis=1)\n",
    "            toptoughclean=toptoughclean.drop('Agility', axis=1)\n",
    "            toptoughclean=toptoughclean.drop('Flexibility', axis=1)\n",
    "            toptoughclean=toptoughclean.drop('Nerve', axis=1)\n",
    "            toptoughclean=toptoughclean.drop('Durability', axis=1)\n",
    "            toptoughclean=toptoughclean.drop('Hand-Eye Coordination', axis=1)\n",
    "            toptoughclean=toptoughclean.drop('Analytic Aptitude', axis=1)\n",
    "            toptoughclean=toptoughclean.drop('Year', axis=1)\n",
    "            toptoughclean=toptoughclean.rename(columns={'TOTAL':'Toughness','Name':'Player Name'})\n",
    "            #finding correlation between toughness total & player earnings & making heatmap\n",
    "            sb.heatmap(toptoughclean.corr(), cmap=\"Blues\", annot=True)\n",
    "            #plt.savefig('Correlation_Top100_Toughness.png')\n",
    "\n",
    "        elif option==4: #do option 4\n",
    "            print('Descriptive Statistics for Toughness by Country')\n",
    "            print(f\"{PopToughClean.describe()}\")\n",
    "        #elif option==0:\n",
    "         #   return()\n",
    "        else:\n",
    "            print('invalid option, select again')\n",
    "            option = int(input(\"Select option number:\"))\n",
    "        return()\n",
    "  #  print(\"Program has ended. Have a great day\")\n",
    "\n",
    "menu() #trying option 1"
   ]
  },
  {
   "cell_type": "code",
   "execution_count": 18,
   "id": "aaafa98b-92b9-415e-a92e-a4d905d33ac2",
   "metadata": {},
   "outputs": [
    {
     "name": "stdout",
     "output_type": "stream",
     "text": [
      "[1] Bar Graph for Top 100 Paid Athletes by Sport\n",
      "[2] Bar Graph for Sport Popularity by Country\n",
      "[3] Correlation Heatmap: Toughness & Top 100 Earnings\n",
      "[4] Descriptive Statistics for Toughness by Country\n"
     ]
    },
    {
     "name": "stdin",
     "output_type": "stream",
     "text": [
      "Select option number: 2\n"
     ]
    },
    {
     "name": "stdout",
     "output_type": "stream",
     "text": [
      "Bar Graph for Sport Popularity by Country\n"
     ]
    },
    {
     "data": {
      "text/plain": [
       "()"
      ]
     },
     "execution_count": 18,
     "metadata": {},
     "output_type": "execute_result"
    },
    {
     "data": {
      "image/png": "[encoded data removed]",
      "text/plain": [
       "<Figure size 432x288 with 1 Axes>"
      ]
     },
     "metadata": {
      "needs_background": "light"
     },
     "output_type": "display_data"
    }
   ],
   "source": [
    "menu() #trying option 2"
   ]
  },
  {
   "cell_type": "code",
   "execution_count": 20,
   "id": "ba125866-3c82-4a26-988d-9e3ff3be3987",
   "metadata": {},
   "outputs": [
    {
     "name": "stdout",
     "output_type": "stream",
     "text": [
      "[1] Bar Graph for Top 100 Paid Athletes by Sport\n",
      "[2] Bar Graph for Sport Popularity by Country\n",
      "[3] Correlation Heatmap: Toughness & Top 100 Earnings\n",
      "[4] Descriptive Statistics for Toughness by Country\n"
     ]
    },
    {
     "name": "stdin",
     "output_type": "stream",
     "text": [
      "Select option number: 3\n"
     ]
    },
    {
     "name": "stdout",
     "output_type": "stream",
     "text": [
      "Correlation Heatmap: Toughness & Top 100 Earnings\n"
     ]
    },
    {
     "data": {
      "text/plain": [
       "()"
      ]
     },
     "execution_count": 20,
     "metadata": {},
     "output_type": "execute_result"
    },
    {
     "data": {
      "image/png": "[encoded data removed]",
      "text/plain": [
       "<Figure size 432x288 with 2 Axes>"
      ]
     },
     "metadata": {
      "needs_background": "light"
     },
     "output_type": "display_data"
    }
   ],
   "source": [
    "menu() #trying option 3"
   ]
  },
  {
   "cell_type": "code",
   "execution_count": 21,
   "id": "d14ef491-6283-48e3-b69f-a496f2e2ce05",
   "metadata": {},
   "outputs": [
    {
     "name": "stdout",
     "output_type": "stream",
     "text": [
      "[1] Bar Graph for Top 100 Paid Athletes by Sport\n",
      "[2] Bar Graph for Sport Popularity by Country\n",
      "[3] Correlation Heatmap: Toughness & Top 100 Earnings\n",
      "[4] Descriptive Statistics for Toughness by Country\n"
     ]
    },
    {
     "name": "stdin",
     "output_type": "stream",
     "text": [
      "Select option number: 4\n"
     ]
    },
    {
     "name": "stdout",
     "output_type": "stream",
     "text": [
      "Descriptive Statistics for Toughness by Country\n",
      "           TOTAL  bleacherRep2008\n",
      "count   6.000000         6.000000\n",
      "mean   60.104167        30.333333\n",
      "std    15.070131        66.973627\n",
      "min    30.625000         1.000000\n",
      "25%    60.750000         1.750000\n",
      "50%    64.687500         4.000000\n",
      "75%    68.250000         4.750000\n",
      "max    71.750000       167.000000\n"
     ]
    },
    {
     "data": {
      "text/plain": [
       "()"
      ]
     },
     "execution_count": 21,
     "metadata": {},
     "output_type": "execute_result"
    }
   ],
   "source": [
    "menu() #trying option 4"
   ]
  },
  {
   "cell_type": "code",
   "execution_count": null,
   "id": "1e04edae-3690-4424-99bd-8bc6d207435e",
   "metadata": {},
   "outputs": [],
   "source": []
  }
 ],
 "metadata": {
  "kernelspec": {
   "display_name": "Python 3 (ipykernel)",
   "language": "python",
   "name": "python3"
  },
  "language_info": {
   "codemirror_mode": {
    "name": "ipython",
    "version": 3
   },
   "file_extension": ".py",
   "mimetype": "text/x-python",
   "name": "python",
   "nbconvert_exporter": "python",
   "pygments_lexer": "ipython3",
   "version": "3.9.12"
  }
 },
 "nbformat": 4,
 "nbformat_minor": 5
}
